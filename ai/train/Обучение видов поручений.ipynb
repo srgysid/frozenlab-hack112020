{
 "cells": [
  {
   "cell_type": "code",
   "execution_count": 1,
   "metadata": {},
   "outputs": [],
   "source": [
    "import numpy as np\n",
    "import pymorphy2\n",
    "import string\n",
    "import re\n",
    "import os\n",
    "import pandas as pd\n",
    "import pickle\n",
    "\n",
    "from sklearn.linear_model import LogisticRegression\n",
    "from sklearn.model_selection import train_test_split\n",
    "from sklearn import metrics\n",
    "from sklearn.feature_extraction.text import TfidfVectorizer\n",
    "\n",
    "from nltk.corpus import stopwords"
   ]
  },
  {
   "cell_type": "code",
   "execution_count": 2,
   "metadata": {},
   "outputs": [],
   "source": [
    "# import nltk\n",
    "# nltk.download('stopwords')\n",
    "# C:\\Users\\admin\\AppData\\Roaming\\nltk_data"
   ]
  },
  {
   "cell_type": "code",
   "execution_count": 3,
   "metadata": {},
   "outputs": [],
   "source": [
    "# ds = pd.read_excel('d:/Projects/MegaJack/data/Таблица обращений итоговая_Kostya.xlsx')\n",
    "# ds = ds.dropna()\n",
    "# ds['ИД'] = ds['ИД'].astype('int16')\n",
    "\n",
    "ds = pd.read_excel(r'd:\\Projects\\MegaJack\\rosatom\\data\\Вид поручения\\Вид поручения.xlsx')\n",
    "ds = ds.dropna()"
   ]
  },
  {
   "cell_type": "code",
   "execution_count": 4,
   "metadata": {},
   "outputs": [
    {
     "data": {
      "text/plain": [
       "30"
      ]
     },
     "execution_count": 4,
     "metadata": {},
     "output_type": "execute_result"
    }
   ],
   "source": [
    "ds.shape[0]"
   ]
  },
  {
   "cell_type": "code",
   "execution_count": 5,
   "metadata": {
    "scrolled": true
   },
   "outputs": [
    {
     "data": {
      "text/html": [
       "<div>\n",
       "<style scoped>\n",
       "    .dataframe tbody tr th:only-of-type {\n",
       "        vertical-align: middle;\n",
       "    }\n",
       "\n",
       "    .dataframe tbody tr th {\n",
       "        vertical-align: top;\n",
       "    }\n",
       "\n",
       "    .dataframe thead th {\n",
       "        text-align: right;\n",
       "    }\n",
       "</style>\n",
       "<table border=\"1\" class=\"dataframe\">\n",
       "  <thead>\n",
       "    <tr style=\"text-align: right;\">\n",
       "      <th></th>\n",
       "      <th>Вид поручения</th>\n",
       "      <th>id</th>\n",
       "      <th>Текст</th>\n",
       "    </tr>\n",
       "  </thead>\n",
       "  <tbody>\n",
       "    <tr>\n",
       "      <th>0</th>\n",
       "      <td>Организационное</td>\n",
       "      <td>1</td>\n",
       "      <td>Провести инструктаж на участке</td>\n",
       "    </tr>\n",
       "    <tr>\n",
       "      <th>1</th>\n",
       "      <td>Организационное</td>\n",
       "      <td>1</td>\n",
       "      <td>Соблюдать требования безопасности</td>\n",
       "    </tr>\n",
       "    <tr>\n",
       "      <th>2</th>\n",
       "      <td>Организационное</td>\n",
       "      <td>1</td>\n",
       "      <td>Ожидание комиссии</td>\n",
       "    </tr>\n",
       "    <tr>\n",
       "      <th>3</th>\n",
       "      <td>Организационное</td>\n",
       "      <td>1</td>\n",
       "      <td>Носить рабочую форму одежды</td>\n",
       "    </tr>\n",
       "    <tr>\n",
       "      <th>4</th>\n",
       "      <td>Организационное</td>\n",
       "      <td>1</td>\n",
       "      <td>Содержать в чистоте место работы</td>\n",
       "    </tr>\n",
       "  </tbody>\n",
       "</table>\n",
       "</div>"
      ],
      "text/plain": [
       "     Вид поручения  id                              Текст\n",
       "0  Организационное   1     Провести инструктаж на участке\n",
       "1  Организационное   1  Соблюдать требования безопасности\n",
       "2  Организационное   1                  Ожидание комиссии\n",
       "3  Организационное   1        Носить рабочую форму одежды\n",
       "4  Организационное   1   Содержать в чистоте место работы"
      ]
     },
     "execution_count": 5,
     "metadata": {},
     "output_type": "execute_result"
    }
   ],
   "source": [
    "ds.head()"
   ]
  },
  {
   "cell_type": "code",
   "execution_count": 6,
   "metadata": {},
   "outputs": [],
   "source": [
    "charsforexcluding = string.punctuation + u'«»№•–’‘”“\\n\\t¬…—'\n",
    "global_morph = pymorphy2.MorphAnalyzer()\n",
    "stop_words = [x for x in stopwords.words('english') + stopwords.words('russian') if not x in [\"не\"]]\n",
    "stop_words += [\"коллега\",\"просить\",\"просьба\",\"здравствовать\",\"спасибо\",\"пожалуйста\",\"уважаемый\", \"уважение\"]\n",
    "stop_words = set(stop_words)\n",
    "\n",
    "def get_unigramms(decision, internal_morph=None):\n",
    "\n",
    "    if isinstance(decision, str):\n",
    "        morph = global_morph if internal_morph is None else internal_morph\n",
    "        text = \" \" + decision.lower() + \" \"\n",
    "        text = text.replace(\"добрый день\", \"\").replace(\"доброе утро\", \"\")\n",
    "\n",
    "        unigramms = \"\"\n",
    "        # заменим пунктуацию на пробел\n",
    "        for x in charsforexcluding:\n",
    "            text = text.replace(x, ' ')\n",
    "\n",
    "        for el in text.split():\n",
    "\n",
    "            el = el.lower()\n",
    "            el = el.replace(\" \", \"\")\n",
    "\n",
    "            if (not el.isdigit()) & (not el in stop_words):\n",
    "                if el != '':\n",
    "\n",
    "                    prs = morph.parse(el)[0]\n",
    "                    nf = prs.normal_form\n",
    "\n",
    "                    if nf not in stop_words:\n",
    "                        if unigramms == \" \":\n",
    "                            unigramms = nf\n",
    "                        else:\n",
    "                            unigramms += \" \"\n",
    "                            unigramms += nf\n",
    "\n",
    "        return unigramms\n",
    "\n",
    "    else:\n",
    "        return \"\""
   ]
  },
  {
   "cell_type": "code",
   "execution_count": 7,
   "metadata": {},
   "outputs": [],
   "source": [
    "def create_unigramms_in_ds(data_source, internal_morph=None):\n",
    "    \n",
    "    data_source['unigramms'] = data_source['Текст'].apply(lambda text: get_unigramms(text, internal_morph))\n",
    "    data_source = data_source[~data_source['unigramms'].isnull()]\n",
    "\n",
    "    return data_source"
   ]
  },
  {
   "cell_type": "code",
   "execution_count": 8,
   "metadata": {},
   "outputs": [],
   "source": [
    "ds = create_unigramms_in_ds(ds)"
   ]
  },
  {
   "cell_type": "code",
   "execution_count": 9,
   "metadata": {},
   "outputs": [
    {
     "data": {
      "text/html": [
       "<div>\n",
       "<style scoped>\n",
       "    .dataframe tbody tr th:only-of-type {\n",
       "        vertical-align: middle;\n",
       "    }\n",
       "\n",
       "    .dataframe tbody tr th {\n",
       "        vertical-align: top;\n",
       "    }\n",
       "\n",
       "    .dataframe thead th {\n",
       "        text-align: right;\n",
       "    }\n",
       "</style>\n",
       "<table border=\"1\" class=\"dataframe\">\n",
       "  <thead>\n",
       "    <tr style=\"text-align: right;\">\n",
       "      <th></th>\n",
       "      <th>Вид поручения</th>\n",
       "      <th>id</th>\n",
       "      <th>Текст</th>\n",
       "      <th>unigramms</th>\n",
       "    </tr>\n",
       "  </thead>\n",
       "  <tbody>\n",
       "    <tr>\n",
       "      <th>0</th>\n",
       "      <td>Организационное</td>\n",
       "      <td>1</td>\n",
       "      <td>Провести инструктаж на участке</td>\n",
       "      <td>провести инструктаж участок</td>\n",
       "    </tr>\n",
       "    <tr>\n",
       "      <th>1</th>\n",
       "      <td>Организационное</td>\n",
       "      <td>1</td>\n",
       "      <td>Соблюдать требования безопасности</td>\n",
       "      <td>соблюдать требование безопасность</td>\n",
       "    </tr>\n",
       "    <tr>\n",
       "      <th>2</th>\n",
       "      <td>Организационное</td>\n",
       "      <td>1</td>\n",
       "      <td>Ожидание комиссии</td>\n",
       "      <td>ожидание комиссия</td>\n",
       "    </tr>\n",
       "    <tr>\n",
       "      <th>3</th>\n",
       "      <td>Организационное</td>\n",
       "      <td>1</td>\n",
       "      <td>Носить рабочую форму одежды</td>\n",
       "      <td>носить рабочий форма одежда</td>\n",
       "    </tr>\n",
       "    <tr>\n",
       "      <th>4</th>\n",
       "      <td>Организационное</td>\n",
       "      <td>1</td>\n",
       "      <td>Содержать в чистоте место работы</td>\n",
       "      <td>содержимый чистота место работа</td>\n",
       "    </tr>\n",
       "    <tr>\n",
       "      <th>5</th>\n",
       "      <td>Организационное</td>\n",
       "      <td>1</td>\n",
       "      <td>Следить за исполнением требований техники безо...</td>\n",
       "      <td>следить исполнение требование техника безопас...</td>\n",
       "    </tr>\n",
       "    <tr>\n",
       "      <th>6</th>\n",
       "      <td>Организационное</td>\n",
       "      <td>1</td>\n",
       "      <td>Отчитаться перед руководством</td>\n",
       "      <td>отчитаться руководство</td>\n",
       "    </tr>\n",
       "    <tr>\n",
       "      <th>7</th>\n",
       "      <td>Организационное</td>\n",
       "      <td>1</td>\n",
       "      <td>Подготовить территорию</td>\n",
       "      <td>подготовить территория</td>\n",
       "    </tr>\n",
       "    <tr>\n",
       "      <th>8</th>\n",
       "      <td>Организационное</td>\n",
       "      <td>1</td>\n",
       "      <td>Встретить комиссию</td>\n",
       "      <td>встретить комиссия</td>\n",
       "    </tr>\n",
       "    <tr>\n",
       "      <th>9</th>\n",
       "      <td>Организационное</td>\n",
       "      <td>1</td>\n",
       "      <td>Следить за чистотой на участке</td>\n",
       "      <td>следить чистота участок</td>\n",
       "    </tr>\n",
       "    <tr>\n",
       "      <th>10</th>\n",
       "      <td>Технологическое</td>\n",
       "      <td>2</td>\n",
       "      <td>Объём производства продукции на будущую смену</td>\n",
       "      <td>объём производство продукция будущий смена</td>\n",
       "    </tr>\n",
       "    <tr>\n",
       "      <th>11</th>\n",
       "      <td>Технологическое</td>\n",
       "      <td>2</td>\n",
       "      <td>Провести замеры геометрии</td>\n",
       "      <td>провести замер геометрия</td>\n",
       "    </tr>\n",
       "    <tr>\n",
       "      <th>12</th>\n",
       "      <td>Технологическое</td>\n",
       "      <td>2</td>\n",
       "      <td>Провести визуальный осмотр</td>\n",
       "      <td>провести визуальный осмотр</td>\n",
       "    </tr>\n",
       "    <tr>\n",
       "      <th>13</th>\n",
       "      <td>Технологическое</td>\n",
       "      <td>2</td>\n",
       "      <td>Провести контроль</td>\n",
       "      <td>провести контроль</td>\n",
       "    </tr>\n",
       "    <tr>\n",
       "      <th>14</th>\n",
       "      <td>Технологическое</td>\n",
       "      <td>2</td>\n",
       "      <td>Провести провеку техники безопасности</td>\n",
       "      <td>провести провеко техника безопасность</td>\n",
       "    </tr>\n",
       "    <tr>\n",
       "      <th>15</th>\n",
       "      <td>Технологическое</td>\n",
       "      <td>2</td>\n",
       "      <td>Провести проверку соблюдения требований</td>\n",
       "      <td>провести проверка соблюдение требование</td>\n",
       "    </tr>\n",
       "    <tr>\n",
       "      <th>16</th>\n",
       "      <td>Технологическое</td>\n",
       "      <td>2</td>\n",
       "      <td>Выполнить технический контроль</td>\n",
       "      <td>выполнить технический контроль</td>\n",
       "    </tr>\n",
       "    <tr>\n",
       "      <th>17</th>\n",
       "      <td>Технологическое</td>\n",
       "      <td>2</td>\n",
       "      <td>Произвести контроль качества изделия</td>\n",
       "      <td>произвести контроль качество изделие</td>\n",
       "    </tr>\n",
       "    <tr>\n",
       "      <th>18</th>\n",
       "      <td>Технологическое</td>\n",
       "      <td>2</td>\n",
       "      <td>Провести инвентаризацию</td>\n",
       "      <td>провести инвентаризация</td>\n",
       "    </tr>\n",
       "    <tr>\n",
       "      <th>19</th>\n",
       "      <td>Технологическое</td>\n",
       "      <td>2</td>\n",
       "      <td>Контроль местонахождения персонала</td>\n",
       "      <td>контроль местонахождение персонал</td>\n",
       "    </tr>\n",
       "    <tr>\n",
       "      <th>20</th>\n",
       "      <td>Техническое</td>\n",
       "      <td>3</td>\n",
       "      <td>Следить за работой сотрудника</td>\n",
       "      <td>следить работа сотрудник</td>\n",
       "    </tr>\n",
       "    <tr>\n",
       "      <th>21</th>\n",
       "      <td>Техническое</td>\n",
       "      <td>3</td>\n",
       "      <td>Провести замену</td>\n",
       "      <td>провести замена</td>\n",
       "    </tr>\n",
       "    <tr>\n",
       "      <th>22</th>\n",
       "      <td>Техническое</td>\n",
       "      <td>3</td>\n",
       "      <td>Дополнительный контроль</td>\n",
       "      <td>дополнительный контроль</td>\n",
       "    </tr>\n",
       "    <tr>\n",
       "      <th>23</th>\n",
       "      <td>Техническое</td>\n",
       "      <td>3</td>\n",
       "      <td>Изменение режима работы установки</td>\n",
       "      <td>изменение режим работа установка</td>\n",
       "    </tr>\n",
       "    <tr>\n",
       "      <th>24</th>\n",
       "      <td>Техническое</td>\n",
       "      <td>3</td>\n",
       "      <td>Следить за работой оборудования</td>\n",
       "      <td>следить работа оборудование</td>\n",
       "    </tr>\n",
       "    <tr>\n",
       "      <th>25</th>\n",
       "      <td>Техническое</td>\n",
       "      <td>3</td>\n",
       "      <td>Изменить конфигурацию оборудования</td>\n",
       "      <td>изменить конфигурация оборудование</td>\n",
       "    </tr>\n",
       "    <tr>\n",
       "      <th>26</th>\n",
       "      <td>Техническое</td>\n",
       "      <td>3</td>\n",
       "      <td>Проверить параметры сборки</td>\n",
       "      <td>проверить параметр сборка</td>\n",
       "    </tr>\n",
       "    <tr>\n",
       "      <th>27</th>\n",
       "      <td>Техническое</td>\n",
       "      <td>3</td>\n",
       "      <td>Установить новое оборудование</td>\n",
       "      <td>установить новое оборудование</td>\n",
       "    </tr>\n",
       "    <tr>\n",
       "      <th>28</th>\n",
       "      <td>Техническое</td>\n",
       "      <td>3</td>\n",
       "      <td>Поставить оборудование на техническое обслужив...</td>\n",
       "      <td>поставить оборудование технический обслуживание</td>\n",
       "    </tr>\n",
       "    <tr>\n",
       "      <th>29</th>\n",
       "      <td>Техническое</td>\n",
       "      <td>3</td>\n",
       "      <td>Осуществить испытания</td>\n",
       "      <td>осуществить испытание</td>\n",
       "    </tr>\n",
       "  </tbody>\n",
       "</table>\n",
       "</div>"
      ],
      "text/plain": [
       "      Вид поручения  id                                              Текст  \\\n",
       "0   Организационное   1                     Провести инструктаж на участке   \n",
       "1   Организационное   1                  Соблюдать требования безопасности   \n",
       "2   Организационное   1                                  Ожидание комиссии   \n",
       "3   Организационное   1                        Носить рабочую форму одежды   \n",
       "4   Организационное   1                   Содержать в чистоте место работы   \n",
       "5   Организационное   1  Следить за исполнением требований техники безо...   \n",
       "6   Организационное   1                      Отчитаться перед руководством   \n",
       "7   Организационное   1                             Подготовить территорию   \n",
       "8   Организационное   1                                 Встретить комиссию   \n",
       "9   Организационное   1                     Следить за чистотой на участке   \n",
       "10  Технологическое   2      Объём производства продукции на будущую смену   \n",
       "11  Технологическое   2                          Провести замеры геометрии   \n",
       "12  Технологическое   2                         Провести визуальный осмотр   \n",
       "13  Технологическое   2                                  Провести контроль   \n",
       "14  Технологическое   2              Провести провеку техники безопасности   \n",
       "15  Технологическое   2            Провести проверку соблюдения требований   \n",
       "16  Технологическое   2                     Выполнить технический контроль   \n",
       "17  Технологическое   2               Произвести контроль качества изделия   \n",
       "18  Технологическое   2                            Провести инвентаризацию   \n",
       "19  Технологическое   2                 Контроль местонахождения персонала   \n",
       "20      Техническое   3                      Следить за работой сотрудника   \n",
       "21      Техническое   3                                    Провести замену   \n",
       "22      Техническое   3                            Дополнительный контроль   \n",
       "23      Техническое   3                  Изменение режима работы установки   \n",
       "24      Техническое   3                    Следить за работой оборудования   \n",
       "25      Техническое   3                 Изменить конфигурацию оборудования   \n",
       "26      Техническое   3                         Проверить параметры сборки   \n",
       "27      Техническое   3                      Установить новое оборудование   \n",
       "28      Техническое   3  Поставить оборудование на техническое обслужив...   \n",
       "29      Техническое   3                              Осуществить испытания   \n",
       "\n",
       "                                            unigramms  \n",
       "0                         провести инструктаж участок  \n",
       "1                   соблюдать требование безопасность  \n",
       "2                                   ожидание комиссия  \n",
       "3                         носить рабочий форма одежда  \n",
       "4                     содержимый чистота место работа  \n",
       "5    следить исполнение требование техника безопас...  \n",
       "6                              отчитаться руководство  \n",
       "7                              подготовить территория  \n",
       "8                                  встретить комиссия  \n",
       "9                             следить чистота участок  \n",
       "10         объём производство продукция будущий смена  \n",
       "11                           провести замер геометрия  \n",
       "12                         провести визуальный осмотр  \n",
       "13                                  провести контроль  \n",
       "14              провести провеко техника безопасность  \n",
       "15            провести проверка соблюдение требование  \n",
       "16                     выполнить технический контроль  \n",
       "17               произвести контроль качество изделие  \n",
       "18                            провести инвентаризация  \n",
       "19                  контроль местонахождение персонал  \n",
       "20                           следить работа сотрудник  \n",
       "21                                    провести замена  \n",
       "22                            дополнительный контроль  \n",
       "23                   изменение режим работа установка  \n",
       "24                        следить работа оборудование  \n",
       "25                 изменить конфигурация оборудование  \n",
       "26                          проверить параметр сборка  \n",
       "27                      установить новое оборудование  \n",
       "28    поставить оборудование технический обслуживание  \n",
       "29                              осуществить испытание  "
      ]
     },
     "execution_count": 9,
     "metadata": {},
     "output_type": "execute_result"
    }
   ],
   "source": [
    "ds"
   ]
  },
  {
   "cell_type": "markdown",
   "metadata": {},
   "source": [
    "### Делим выборку"
   ]
  },
  {
   "cell_type": "code",
   "execution_count": 10,
   "metadata": {},
   "outputs": [],
   "source": [
    "CLASS_FILED = 'id'\n",
    "# CLASS_FILED = 'Вид поручения'"
   ]
  },
  {
   "cell_type": "code",
   "execution_count": 11,
   "metadata": {},
   "outputs": [
    {
     "data": {
      "text/plain": [
       "'Кол-во коассов: 3'"
      ]
     },
     "execution_count": 11,
     "metadata": {},
     "output_type": "execute_result"
    }
   ],
   "source": [
    "'Кол-во коассов: {}'.format(len(ds[CLASS_FILED].unique()))"
   ]
  },
  {
   "cell_type": "code",
   "execution_count": 12,
   "metadata": {},
   "outputs": [],
   "source": [
    "train, test = train_test_split(ds[CLASS_FILED], random_state=1)"
   ]
  },
  {
   "cell_type": "code",
   "execution_count": 13,
   "metadata": {},
   "outputs": [],
   "source": [
    "ds_train = ds.loc[train.index]\n",
    "ds_test = ds.loc[test.index]"
   ]
  },
  {
   "cell_type": "code",
   "execution_count": 14,
   "metadata": {},
   "outputs": [],
   "source": [
    "count_features = 3000\n",
    "vect = TfidfVectorizer(sublinear_tf=True, use_idf=True, ngram_range=(1, 2), max_features=count_features)\n",
    "features_train = vect.fit_transform(ds_train['unigramms'])\n",
    "features_test = vect.transform(ds_test['unigramms'])"
   ]
  },
  {
   "cell_type": "code",
   "execution_count": 15,
   "metadata": {},
   "outputs": [
    {
     "data": {
      "text/plain": [
       "LogisticRegression(C=5, class_weight=None, dual=False, fit_intercept=True,\n",
       "                   intercept_scaling=1, l1_ratio=None, max_iter=100,\n",
       "                   multi_class='ovr', n_jobs=None, penalty='l2', random_state=1,\n",
       "                   solver='liblinear', tol=0.0001, verbose=0, warm_start=False)"
      ]
     },
     "execution_count": 15,
     "metadata": {},
     "output_type": "execute_result"
    }
   ],
   "source": [
    "model = LogisticRegression(C=5, random_state=1, solver='liblinear', multi_class='ovr')\n",
    "model.fit(features_train, ds_train[CLASS_FILED])"
   ]
  },
  {
   "cell_type": "code",
   "execution_count": 16,
   "metadata": {},
   "outputs": [
    {
     "name": "stdout",
     "output_type": "stream",
     "text": [
      "acc_train 1.0\n",
      "acc_test 0.5\n"
     ]
    }
   ],
   "source": [
    "acc_train = metrics.accuracy_score(ds_train[CLASS_FILED], model.predict(features_train))\n",
    "acc_test = metrics.accuracy_score(ds_test[CLASS_FILED], model.predict(features_test))\n",
    "\n",
    "print('acc_train', acc_train)\n",
    "print('acc_test', acc_test)"
   ]
  },
  {
   "cell_type": "code",
   "execution_count": 17,
   "metadata": {},
   "outputs": [],
   "source": [
    "# чистый пердикт\n",
    "# ds_test['pred'] = model.predict(features_test)"
   ]
  },
  {
   "cell_type": "code",
   "execution_count": 18,
   "metadata": {},
   "outputs": [],
   "source": [
    "# предикт с вероятностями\n",
    "probas = model.predict_proba(features_test)\n",
    "class_indexes = np.argmax(probas, axis=1)  # индексы классов с max вероятностью\n",
    "class_probas = probas[np.arange(features_test.shape[0]), class_indexes]\n",
    "class_output = model.classes_[class_indexes]\n",
    "ds_test[f'{CLASS_FILED} prob'] = class_probas\n",
    "ds_test[f'{CLASS_FILED} pred'] = class_output\n",
    "ds_test[f'{CLASS_FILED} success'] = (ds_test[f'{CLASS_FILED} pred'] == ds_test[CLASS_FILED]).astype('int16')"
   ]
  },
  {
   "cell_type": "code",
   "execution_count": 19,
   "metadata": {},
   "outputs": [],
   "source": [
    "def create_conf_report(ds: pd.DataFrame):\n",
    "    col_name = CLASS_FILED\n",
    "    prob_col = f'{CLASS_FILED} prob'\n",
    "    success_col = f'{CLASS_FILED} success'\n",
    "\n",
    "    ds_rep = ds.sort_values(by=[prob_col], ascending=[False])\n",
    "    ds_rep['{} Кол-во'.format(col_name)] = range(1, len(ds_rep) + 1)\n",
    "    ds_rep['{} Соотв-сум'.format(col_name)] = ds_rep[success_col].cumsum()\n",
    "    ds_rep['{} Точность'.format(col_name)] = ds_rep['{} Соотв-сум'.format(col_name)] / ds_rep['{} Кол-во'.format(col_name)]\n",
    "    ds_rep['{} Доля'.format(col_name)] = ds_rep['{} Кол-во'.format(col_name)] / len(ds_rep)\n",
    "\n",
    "    return ds_rep"
   ]
  },
  {
   "cell_type": "code",
   "execution_count": 20,
   "metadata": {},
   "outputs": [],
   "source": [
    "ds_test = create_conf_report(ds_test)"
   ]
  },
  {
   "cell_type": "code",
   "execution_count": 21,
   "metadata": {},
   "outputs": [],
   "source": [
    "ds_test.to_excel(r'd:\\Projects\\MegaJack\\rosatom\\data\\Вид поручения\\Вид поручения - Результат обучения - {}.xlsx'.format(CLASS_FILED))"
   ]
  },
  {
   "cell_type": "markdown",
   "metadata": {},
   "source": [
    "### Обучаем на всех данных"
   ]
  },
  {
   "cell_type": "code",
   "execution_count": 22,
   "metadata": {},
   "outputs": [
    {
     "data": {
      "text/plain": [
       "LogisticRegression(C=5, class_weight=None, dual=False, fit_intercept=True,\n",
       "                   intercept_scaling=1, l1_ratio=None, max_iter=100,\n",
       "                   multi_class='ovr', n_jobs=None, penalty='l2', random_state=1,\n",
       "                   solver='liblinear', tol=0.0001, verbose=0, warm_start=False)"
      ]
     },
     "execution_count": 22,
     "metadata": {},
     "output_type": "execute_result"
    }
   ],
   "source": [
    "model = LogisticRegression(C=5, random_state=1, solver='liblinear', multi_class='ovr')\n",
    "features_all = vect.fit_transform(ds['unigramms'])\n",
    "model.fit(features_all, ds[CLASS_FILED])"
   ]
  },
  {
   "cell_type": "code",
   "execution_count": 23,
   "metadata": {},
   "outputs": [],
   "source": [
    "pickle.dump(vect, open(r'd:\\Projects\\MegaJack\\rosatom\\data\\Вид поручения\\vect.pickle', 'wb'))\n",
    "pickle.dump(model, open(r'd:\\Projects\\MegaJack\\rosatom\\data\\Вид поручения\\model.pickle', 'wb'))"
   ]
  },
  {
   "cell_type": "markdown",
   "metadata": {},
   "source": [
    "### Тестируем"
   ]
  },
  {
   "cell_type": "code",
   "execution_count": 24,
   "metadata": {},
   "outputs": [],
   "source": [
    "text = 'предоставить отчет'\n",
    "unigramms = get_unigramms(text)\n",
    "unigramms_vect = vect.transform([unigramms])\n",
    "result = model.predict(unigramms_vect)"
   ]
  },
  {
   "cell_type": "code",
   "execution_count": 25,
   "metadata": {},
   "outputs": [
    {
     "data": {
      "text/plain": [
       "1"
      ]
     },
     "execution_count": 25,
     "metadata": {},
     "output_type": "execute_result"
    }
   ],
   "source": [
    "result[0]"
   ]
  },
  {
   "cell_type": "code",
   "execution_count": 26,
   "metadata": {},
   "outputs": [
    {
     "data": {
      "text/plain": [
       "array([[0.35495051, 0.30732882, 0.33772066]])"
      ]
     },
     "execution_count": 26,
     "metadata": {},
     "output_type": "execute_result"
    }
   ],
   "source": [
    "result = model.predict_proba(unigramms_vect)\n",
    "result"
   ]
  },
  {
   "cell_type": "code",
   "execution_count": null,
   "metadata": {},
   "outputs": [],
   "source": []
  }
 ],
 "metadata": {
  "kernelspec": {
   "display_name": "Python 3",
   "language": "python",
   "name": "python3"
  },
  "language_info": {
   "codemirror_mode": {
    "name": "ipython",
    "version": 3
   },
   "file_extension": ".py",
   "mimetype": "text/x-python",
   "name": "python",
   "nbconvert_exporter": "python",
   "pygments_lexer": "ipython3",
   "version": "3.6.8"
  }
 },
 "nbformat": 4,
 "nbformat_minor": 2
}
