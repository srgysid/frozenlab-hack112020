{
 "cells": [
  {
   "cell_type": "code",
   "execution_count": 1,
   "metadata": {},
   "outputs": [],
   "source": [
    "import numpy as np\n",
    "import pymorphy2\n",
    "import string\n",
    "import re\n",
    "import os\n",
    "import pandas as pd\n",
    "import pickle\n",
    "\n",
    "from sklearn.linear_model import LogisticRegression\n",
    "from sklearn.model_selection import train_test_split\n",
    "from sklearn import metrics\n",
    "from sklearn.feature_extraction.text import TfidfVectorizer\n",
    "\n",
    "from nltk.corpus import stopwords"
   ]
  },
  {
   "cell_type": "code",
   "execution_count": 2,
   "metadata": {},
   "outputs": [],
   "source": [
    "# import nltk\n",
    "# nltk.download('stopwords')\n",
    "# C:\\Users\\admin\\AppData\\Roaming\\nltk_data"
   ]
  },
  {
   "cell_type": "code",
   "execution_count": 3,
   "metadata": {},
   "outputs": [],
   "source": [
    "# ds = pd.read_excel('d:/Projects/MegaJack/data/Таблица обращений итоговая_Kostya.xlsx')\n",
    "# ds = ds.dropna()\n",
    "# ds['ИД'] = ds['ИД'].astype('int16')\n",
    "\n",
    "ds = pd.read_excel(r'd:\\Projects\\MegaJack\\rosatom\\data\\Класс карточек\\Класс карточек.xlsx')\n",
    "ds = ds.dropna()"
   ]
  },
  {
   "cell_type": "code",
   "execution_count": 4,
   "metadata": {},
   "outputs": [
    {
     "data": {
      "text/plain": [
       "31"
      ]
     },
     "execution_count": 4,
     "metadata": {},
     "output_type": "execute_result"
    }
   ],
   "source": [
    "ds.shape[0]"
   ]
  },
  {
   "cell_type": "code",
   "execution_count": 5,
   "metadata": {
    "scrolled": true
   },
   "outputs": [
    {
     "data": {
      "text/html": [
       "<div>\n",
       "<style scoped>\n",
       "    .dataframe tbody tr th:only-of-type {\n",
       "        vertical-align: middle;\n",
       "    }\n",
       "\n",
       "    .dataframe tbody tr th {\n",
       "        vertical-align: top;\n",
       "    }\n",
       "\n",
       "    .dataframe thead th {\n",
       "        text-align: right;\n",
       "    }\n",
       "</style>\n",
       "<table border=\"1\" class=\"dataframe\">\n",
       "  <thead>\n",
       "    <tr style=\"text-align: right;\">\n",
       "      <th></th>\n",
       "      <th>Класс</th>\n",
       "      <th>id</th>\n",
       "      <th>Текст</th>\n",
       "    </tr>\n",
       "  </thead>\n",
       "  <tbody>\n",
       "    <tr>\n",
       "      <th>0</th>\n",
       "      <td>Постоянные заявки</td>\n",
       "      <td>1</td>\n",
       "      <td>Ежедневно проводить уборку помещения</td>\n",
       "    </tr>\n",
       "    <tr>\n",
       "      <th>1</th>\n",
       "      <td>Постоянные заявки</td>\n",
       "      <td>1</td>\n",
       "      <td>Каждые полдня измерять температуру</td>\n",
       "    </tr>\n",
       "    <tr>\n",
       "      <th>2</th>\n",
       "      <td>Постоянные заявки</td>\n",
       "      <td>1</td>\n",
       "      <td>Ежедневный отчёт о выполненных работах</td>\n",
       "    </tr>\n",
       "    <tr>\n",
       "      <th>3</th>\n",
       "      <td>Постоянные заявки</td>\n",
       "      <td>1</td>\n",
       "      <td>Ежедневный отчёт о невыполненных работах</td>\n",
       "    </tr>\n",
       "    <tr>\n",
       "      <th>4</th>\n",
       "      <td>Постоянные заявки</td>\n",
       "      <td>1</td>\n",
       "      <td>Ежемесячное предложение по улучшению работ</td>\n",
       "    </tr>\n",
       "  </tbody>\n",
       "</table>\n",
       "</div>"
      ],
      "text/plain": [
       "               Класс  id                                       Текст\n",
       "0  Постоянные заявки   1        Ежедневно проводить уборку помещения\n",
       "1  Постоянные заявки   1          Каждые полдня измерять температуру\n",
       "2  Постоянные заявки   1      Ежедневный отчёт о выполненных работах\n",
       "3  Постоянные заявки   1    Ежедневный отчёт о невыполненных работах\n",
       "4  Постоянные заявки   1  Ежемесячное предложение по улучшению работ"
      ]
     },
     "execution_count": 5,
     "metadata": {},
     "output_type": "execute_result"
    }
   ],
   "source": [
    "ds.head()"
   ]
  },
  {
   "cell_type": "code",
   "execution_count": 6,
   "metadata": {},
   "outputs": [],
   "source": [
    "charsforexcluding = string.punctuation + u'«»№•–’‘”“\\n\\t¬…—'\n",
    "global_morph = pymorphy2.MorphAnalyzer()\n",
    "stop_words = [x for x in stopwords.words('english') + stopwords.words('russian') if not x in [\"не\"]]\n",
    "stop_words += [\"коллега\",\"просить\",\"просьба\",\"здравствовать\",\"спасибо\",\"пожалуйста\",\"уважаемый\", \"уважение\"]\n",
    "stop_words = set(stop_words)\n",
    "\n",
    "def get_unigramms(decision, internal_morph=None):\n",
    "\n",
    "    if isinstance(decision, str):\n",
    "        morph = global_morph if internal_morph is None else internal_morph\n",
    "        text = \" \" + decision.lower() + \" \"\n",
    "        text = text.replace(\"добрый день\", \"\").replace(\"доброе утро\", \"\")\n",
    "\n",
    "        unigramms = \"\"\n",
    "        # заменим пунктуацию на пробел\n",
    "        for x in charsforexcluding:\n",
    "            text = text.replace(x, ' ')\n",
    "\n",
    "        for el in text.split():\n",
    "\n",
    "            el = el.lower()\n",
    "            el = el.replace(\" \", \"\")\n",
    "\n",
    "            if (not el.isdigit()) & (not el in stop_words):\n",
    "                if el != '':\n",
    "\n",
    "                    prs = morph.parse(el)[0]\n",
    "                    nf = prs.normal_form\n",
    "\n",
    "                    if nf not in stop_words:\n",
    "                        if unigramms == \" \":\n",
    "                            unigramms = nf\n",
    "                        else:\n",
    "                            unigramms += \" \"\n",
    "                            unigramms += nf\n",
    "\n",
    "        return unigramms\n",
    "\n",
    "    else:\n",
    "        return \"\""
   ]
  },
  {
   "cell_type": "code",
   "execution_count": 7,
   "metadata": {},
   "outputs": [],
   "source": [
    "def create_unigramms_in_ds(data_source, internal_morph=None):\n",
    "    \n",
    "    data_source['unigramms'] = data_source['Текст'].apply(lambda text: get_unigramms(text, internal_morph))\n",
    "    data_source = data_source[~data_source['unigramms'].isnull()]\n",
    "\n",
    "    return data_source"
   ]
  },
  {
   "cell_type": "code",
   "execution_count": 8,
   "metadata": {},
   "outputs": [],
   "source": [
    "ds = create_unigramms_in_ds(ds)"
   ]
  },
  {
   "cell_type": "code",
   "execution_count": 9,
   "metadata": {},
   "outputs": [
    {
     "data": {
      "text/html": [
       "<div>\n",
       "<style scoped>\n",
       "    .dataframe tbody tr th:only-of-type {\n",
       "        vertical-align: middle;\n",
       "    }\n",
       "\n",
       "    .dataframe tbody tr th {\n",
       "        vertical-align: top;\n",
       "    }\n",
       "\n",
       "    .dataframe thead th {\n",
       "        text-align: right;\n",
       "    }\n",
       "</style>\n",
       "<table border=\"1\" class=\"dataframe\">\n",
       "  <thead>\n",
       "    <tr style=\"text-align: right;\">\n",
       "      <th></th>\n",
       "      <th>Класс</th>\n",
       "      <th>id</th>\n",
       "      <th>Текст</th>\n",
       "      <th>unigramms</th>\n",
       "    </tr>\n",
       "  </thead>\n",
       "  <tbody>\n",
       "    <tr>\n",
       "      <th>0</th>\n",
       "      <td>Постоянные заявки</td>\n",
       "      <td>1</td>\n",
       "      <td>Ежедневно проводить уборку помещения</td>\n",
       "      <td>ежедневно проводить уборка помещение</td>\n",
       "    </tr>\n",
       "    <tr>\n",
       "      <th>1</th>\n",
       "      <td>Постоянные заявки</td>\n",
       "      <td>1</td>\n",
       "      <td>Каждые полдня измерять температуру</td>\n",
       "      <td>каждый полдень измерять температура</td>\n",
       "    </tr>\n",
       "    <tr>\n",
       "      <th>2</th>\n",
       "      <td>Постоянные заявки</td>\n",
       "      <td>1</td>\n",
       "      <td>Ежедневный отчёт о выполненных работах</td>\n",
       "      <td>ежедневный отчёт выполнить работа</td>\n",
       "    </tr>\n",
       "    <tr>\n",
       "      <th>3</th>\n",
       "      <td>Постоянные заявки</td>\n",
       "      <td>1</td>\n",
       "      <td>Ежедневный отчёт о невыполненных работах</td>\n",
       "      <td>ежедневный отчёт невыполненный работа</td>\n",
       "    </tr>\n",
       "    <tr>\n",
       "      <th>4</th>\n",
       "      <td>Постоянные заявки</td>\n",
       "      <td>1</td>\n",
       "      <td>Ежемесячное предложение по улучшению работ</td>\n",
       "      <td>ежемесячный предложение улучшение работа</td>\n",
       "    </tr>\n",
       "    <tr>\n",
       "      <th>5</th>\n",
       "      <td>Постоянные заявки</td>\n",
       "      <td>1</td>\n",
       "      <td>Еженедельное совещание у генерального директора</td>\n",
       "      <td>еженедельный совещание генеральный директор</td>\n",
       "    </tr>\n",
       "    <tr>\n",
       "      <th>6</th>\n",
       "      <td>Постоянные заявки</td>\n",
       "      <td>1</td>\n",
       "      <td>Отчёт о работе за месяц</td>\n",
       "      <td>отчёт работа месяц</td>\n",
       "    </tr>\n",
       "    <tr>\n",
       "      <th>7</th>\n",
       "      <td>Постоянные заявки</td>\n",
       "      <td>1</td>\n",
       "      <td>План работ на месяц</td>\n",
       "      <td>план работа месяц</td>\n",
       "    </tr>\n",
       "    <tr>\n",
       "      <th>8</th>\n",
       "      <td>Постоянные заявки</td>\n",
       "      <td>1</td>\n",
       "      <td>Сдача отчётности в подразделения</td>\n",
       "      <td>сдача отчётность подразделение</td>\n",
       "    </tr>\n",
       "    <tr>\n",
       "      <th>9</th>\n",
       "      <td>Постоянные заявки</td>\n",
       "      <td>1</td>\n",
       "      <td>Ежемесячное обслуживание оборудования</td>\n",
       "      <td>ежемесячный обслуживание оборудование</td>\n",
       "    </tr>\n",
       "    <tr>\n",
       "      <th>10</th>\n",
       "      <td>Информационное сообщение</td>\n",
       "      <td>2</td>\n",
       "      <td>В 15:30 в главном здании будет проходить вакци...</td>\n",
       "      <td>главное здание проходить вакцинация</td>\n",
       "    </tr>\n",
       "    <tr>\n",
       "      <th>11</th>\n",
       "      <td>Информационное сообщение</td>\n",
       "      <td>2</td>\n",
       "      <td>Профсоюзный сбор будет 27 января</td>\n",
       "      <td>профсоюзный сбор январь</td>\n",
       "    </tr>\n",
       "    <tr>\n",
       "      <th>12</th>\n",
       "      <td>Информационное сообщение</td>\n",
       "      <td>2</td>\n",
       "      <td>Пожелания по новогоднему корпоративу присылать...</td>\n",
       "      <td>пожелание новогодний корпоратив присылать гор...</td>\n",
       "    </tr>\n",
       "    <tr>\n",
       "      <th>13</th>\n",
       "      <td>Информационное сообщение</td>\n",
       "      <td>2</td>\n",
       "      <td>Выдача заработной платы будет производиться в ...</td>\n",
       "      <td>выдача заработный плата производиться четверг</td>\n",
       "    </tr>\n",
       "    <tr>\n",
       "      <th>14</th>\n",
       "      <td>Информационное сообщение</td>\n",
       "      <td>2</td>\n",
       "      <td>Всем сотрудникам необходимо пройти медосмотр</td>\n",
       "      <td>весь сотрудник необходимый пройти медосмотр</td>\n",
       "    </tr>\n",
       "    <tr>\n",
       "      <th>15</th>\n",
       "      <td>Информационное сообщение</td>\n",
       "      <td>2</td>\n",
       "      <td>В пятницу буфет работает с 11 часов</td>\n",
       "      <td>пятница буфет работать часы</td>\n",
       "    </tr>\n",
       "    <tr>\n",
       "      <th>16</th>\n",
       "      <td>Информационное сообщение</td>\n",
       "      <td>2</td>\n",
       "      <td>Голосование по конкурсу фотографий будет произ...</td>\n",
       "      <td>голосование конкурс фотография производиться ...</td>\n",
       "    </tr>\n",
       "    <tr>\n",
       "      <th>17</th>\n",
       "      <td>Информационное сообщение</td>\n",
       "      <td>2</td>\n",
       "      <td>Всем сотрудникам необходимо принести справку</td>\n",
       "      <td>весь сотрудник необходимый принести справка</td>\n",
       "    </tr>\n",
       "    <tr>\n",
       "      <th>18</th>\n",
       "      <td>Информационное сообщение</td>\n",
       "      <td>2</td>\n",
       "      <td>Во вторник во внутренней сети будут проводитьс...</td>\n",
       "      <td>вторник внутренний сеть проводиться регламент...</td>\n",
       "    </tr>\n",
       "    <tr>\n",
       "      <th>19</th>\n",
       "      <td>Информационное сообщение</td>\n",
       "      <td>2</td>\n",
       "      <td>Напоминаем сотрудникам о регламенте прохода пр...</td>\n",
       "      <td>напоминать сотрудник регламент проход пропуск...</td>\n",
       "    </tr>\n",
       "    <tr>\n",
       "      <th>20</th>\n",
       "      <td>Поручение</td>\n",
       "      <td>3</td>\n",
       "      <td>Произвести ремонт станка</td>\n",
       "      <td>произвести ремонт станок</td>\n",
       "    </tr>\n",
       "    <tr>\n",
       "      <th>21</th>\n",
       "      <td>Поручение</td>\n",
       "      <td>3</td>\n",
       "      <td>Выполнить инвентаризацию оборудования в помещении</td>\n",
       "      <td>выполнить инвентаризация оборудование помещение</td>\n",
       "    </tr>\n",
       "    <tr>\n",
       "      <th>22</th>\n",
       "      <td>Поручение</td>\n",
       "      <td>3</td>\n",
       "      <td>Проверить корректность работы оборудования</td>\n",
       "      <td>проверить корректность работа оборудование</td>\n",
       "    </tr>\n",
       "    <tr>\n",
       "      <th>23</th>\n",
       "      <td>Поручение</td>\n",
       "      <td>3</td>\n",
       "      <td>Выполнить работы по техническому заданию</td>\n",
       "      <td>выполнить работа технический задание</td>\n",
       "    </tr>\n",
       "    <tr>\n",
       "      <th>24</th>\n",
       "      <td>Поручение</td>\n",
       "      <td>3</td>\n",
       "      <td>Выполнить работы согласно приказа</td>\n",
       "      <td>выполнить работа согласно приказ</td>\n",
       "    </tr>\n",
       "    <tr>\n",
       "      <th>25</th>\n",
       "      <td>Поручение</td>\n",
       "      <td>3</td>\n",
       "      <td>Выполнить проверку оборудования в срок</td>\n",
       "      <td>выполнить проверка оборудование срок</td>\n",
       "    </tr>\n",
       "    <tr>\n",
       "      <th>26</th>\n",
       "      <td>Поручение</td>\n",
       "      <td>3</td>\n",
       "      <td>Приступить к пуско-наладочным работам</td>\n",
       "      <td>приступить пуско наладочный работа</td>\n",
       "    </tr>\n",
       "    <tr>\n",
       "      <th>27</th>\n",
       "      <td>Поручение</td>\n",
       "      <td>3</td>\n",
       "      <td>Ознакомиться с инструкцией</td>\n",
       "      <td>ознакомиться инструкция</td>\n",
       "    </tr>\n",
       "    <tr>\n",
       "      <th>28</th>\n",
       "      <td>Поручение</td>\n",
       "      <td>3</td>\n",
       "      <td>Проити инструктаж по технике безопасности</td>\n",
       "      <td>проить инструктаж техника безопасность</td>\n",
       "    </tr>\n",
       "    <tr>\n",
       "      <th>29</th>\n",
       "      <td>Поручение</td>\n",
       "      <td>3</td>\n",
       "      <td>Подготовить отчёт о выполнении работ</td>\n",
       "      <td>подготовить отчёт выполнение работа</td>\n",
       "    </tr>\n",
       "    <tr>\n",
       "      <th>30</th>\n",
       "      <td>Поручение</td>\n",
       "      <td>3</td>\n",
       "      <td>Участвовать в совещании</td>\n",
       "      <td>участвовать совещание</td>\n",
       "    </tr>\n",
       "  </tbody>\n",
       "</table>\n",
       "</div>"
      ],
      "text/plain": [
       "                       Класс  id  \\\n",
       "0          Постоянные заявки   1   \n",
       "1          Постоянные заявки   1   \n",
       "2          Постоянные заявки   1   \n",
       "3          Постоянные заявки   1   \n",
       "4          Постоянные заявки   1   \n",
       "5          Постоянные заявки   1   \n",
       "6          Постоянные заявки   1   \n",
       "7          Постоянные заявки   1   \n",
       "8          Постоянные заявки   1   \n",
       "9          Постоянные заявки   1   \n",
       "10  Информационное сообщение   2   \n",
       "11  Информационное сообщение   2   \n",
       "12  Информационное сообщение   2   \n",
       "13  Информационное сообщение   2   \n",
       "14  Информационное сообщение   2   \n",
       "15  Информационное сообщение   2   \n",
       "16  Информационное сообщение   2   \n",
       "17  Информационное сообщение   2   \n",
       "18  Информационное сообщение   2   \n",
       "19  Информационное сообщение   2   \n",
       "20                 Поручение   3   \n",
       "21                 Поручение   3   \n",
       "22                 Поручение   3   \n",
       "23                 Поручение   3   \n",
       "24                 Поручение   3   \n",
       "25                 Поручение   3   \n",
       "26                 Поручение   3   \n",
       "27                 Поручение   3   \n",
       "28                 Поручение   3   \n",
       "29                 Поручение   3   \n",
       "30                 Поручение   3   \n",
       "\n",
       "                                                Текст  \\\n",
       "0                Ежедневно проводить уборку помещения   \n",
       "1                  Каждые полдня измерять температуру   \n",
       "2              Ежедневный отчёт о выполненных работах   \n",
       "3            Ежедневный отчёт о невыполненных работах   \n",
       "4          Ежемесячное предложение по улучшению работ   \n",
       "5     Еженедельное совещание у генерального директора   \n",
       "6                             Отчёт о работе за месяц   \n",
       "7                                 План работ на месяц   \n",
       "8                    Сдача отчётности в подразделения   \n",
       "9               Ежемесячное обслуживание оборудования   \n",
       "10  В 15:30 в главном здании будет проходить вакци...   \n",
       "11                   Профсоюзный сбор будет 27 января   \n",
       "12  Пожелания по новогоднему корпоративу присылать...   \n",
       "13  Выдача заработной платы будет производиться в ...   \n",
       "14       Всем сотрудникам необходимо пройти медосмотр   \n",
       "15                В пятницу буфет работает с 11 часов   \n",
       "16  Голосование по конкурсу фотографий будет произ...   \n",
       "17      Всем сотрудникам необходимо принести справку    \n",
       "18  Во вторник во внутренней сети будут проводитьс...   \n",
       "19  Напоминаем сотрудникам о регламенте прохода пр...   \n",
       "20                           Произвести ремонт станка   \n",
       "21  Выполнить инвентаризацию оборудования в помещении   \n",
       "22         Проверить корректность работы оборудования   \n",
       "23           Выполнить работы по техническому заданию   \n",
       "24                  Выполнить работы согласно приказа   \n",
       "25             Выполнить проверку оборудования в срок   \n",
       "26              Приступить к пуско-наладочным работам   \n",
       "27                         Ознакомиться с инструкцией   \n",
       "28          Проити инструктаж по технике безопасности   \n",
       "29               Подготовить отчёт о выполнении работ   \n",
       "30                            Участвовать в совещании   \n",
       "\n",
       "                                            unigramms  \n",
       "0                ежедневно проводить уборка помещение  \n",
       "1                 каждый полдень измерять температура  \n",
       "2                   ежедневный отчёт выполнить работа  \n",
       "3               ежедневный отчёт невыполненный работа  \n",
       "4            ежемесячный предложение улучшение работа  \n",
       "5         еженедельный совещание генеральный директор  \n",
       "6                                  отчёт работа месяц  \n",
       "7                                   план работа месяц  \n",
       "8                      сдача отчётность подразделение  \n",
       "9               ежемесячный обслуживание оборудование  \n",
       "10                главное здание проходить вакцинация  \n",
       "11                            профсоюзный сбор январь  \n",
       "12   пожелание новогодний корпоратив присылать гор...  \n",
       "13      выдача заработный плата производиться четверг  \n",
       "14        весь сотрудник необходимый пройти медосмотр  \n",
       "15                        пятница буфет работать часы  \n",
       "16   голосование конкурс фотография производиться ...  \n",
       "17        весь сотрудник необходимый принести справка  \n",
       "18   вторник внутренний сеть проводиться регламент...  \n",
       "19   напоминать сотрудник регламент проход пропуск...  \n",
       "20                           произвести ремонт станок  \n",
       "21    выполнить инвентаризация оборудование помещение  \n",
       "22         проверить корректность работа оборудование  \n",
       "23               выполнить работа технический задание  \n",
       "24                   выполнить работа согласно приказ  \n",
       "25               выполнить проверка оборудование срок  \n",
       "26                 приступить пуско наладочный работа  \n",
       "27                            ознакомиться инструкция  \n",
       "28             проить инструктаж техника безопасность  \n",
       "29                подготовить отчёт выполнение работа  \n",
       "30                              участвовать совещание  "
      ]
     },
     "execution_count": 9,
     "metadata": {},
     "output_type": "execute_result"
    }
   ],
   "source": [
    "ds"
   ]
  },
  {
   "cell_type": "markdown",
   "metadata": {},
   "source": [
    "### Делим выборку"
   ]
  },
  {
   "cell_type": "code",
   "execution_count": 10,
   "metadata": {},
   "outputs": [],
   "source": [
    "CLASS_FILED = 'id'\n",
    "# CLASS_FILED = 'Класс'"
   ]
  },
  {
   "cell_type": "code",
   "execution_count": 11,
   "metadata": {},
   "outputs": [
    {
     "data": {
      "text/plain": [
       "'Кол-во коассов: 3'"
      ]
     },
     "execution_count": 11,
     "metadata": {},
     "output_type": "execute_result"
    }
   ],
   "source": [
    "'Кол-во коассов: {}'.format(len(ds[CLASS_FILED].unique()))"
   ]
  },
  {
   "cell_type": "code",
   "execution_count": 12,
   "metadata": {},
   "outputs": [],
   "source": [
    "train, test = train_test_split(ds[CLASS_FILED], random_state=1)"
   ]
  },
  {
   "cell_type": "code",
   "execution_count": 13,
   "metadata": {},
   "outputs": [],
   "source": [
    "ds_train = ds.loc[train.index]\n",
    "ds_test = ds.loc[test.index]"
   ]
  },
  {
   "cell_type": "code",
   "execution_count": 14,
   "metadata": {},
   "outputs": [],
   "source": [
    "count_features = 3000\n",
    "vect = TfidfVectorizer(sublinear_tf=True, use_idf=True, ngram_range=(1, 2), max_features=count_features)\n",
    "features_train = vect.fit_transform(ds_train['unigramms'])\n",
    "features_test = vect.transform(ds_test['unigramms'])"
   ]
  },
  {
   "cell_type": "code",
   "execution_count": 15,
   "metadata": {},
   "outputs": [
    {
     "data": {
      "text/plain": [
       "LogisticRegression(C=5, class_weight=None, dual=False, fit_intercept=True,\n",
       "                   intercept_scaling=1, l1_ratio=None, max_iter=100,\n",
       "                   multi_class='ovr', n_jobs=None, penalty='l2', random_state=1,\n",
       "                   solver='liblinear', tol=0.0001, verbose=0, warm_start=False)"
      ]
     },
     "execution_count": 15,
     "metadata": {},
     "output_type": "execute_result"
    }
   ],
   "source": [
    "model = LogisticRegression(C=5, random_state=1, solver='liblinear', multi_class='ovr')\n",
    "model.fit(features_train, ds_train[CLASS_FILED])"
   ]
  },
  {
   "cell_type": "code",
   "execution_count": 16,
   "metadata": {},
   "outputs": [
    {
     "name": "stdout",
     "output_type": "stream",
     "text": [
      "acc_train 1.0\n",
      "acc_test 0.25\n"
     ]
    }
   ],
   "source": [
    "acc_train = metrics.accuracy_score(ds_train[CLASS_FILED], model.predict(features_train))\n",
    "acc_test = metrics.accuracy_score(ds_test[CLASS_FILED], model.predict(features_test))\n",
    "\n",
    "print('acc_train', acc_train)\n",
    "print('acc_test', acc_test)"
   ]
  },
  {
   "cell_type": "code",
   "execution_count": 17,
   "metadata": {},
   "outputs": [],
   "source": [
    "# чистый пердикт\n",
    "# ds_test['pred'] = model.predict(features_test)"
   ]
  },
  {
   "cell_type": "code",
   "execution_count": 18,
   "metadata": {},
   "outputs": [],
   "source": [
    "# предикт с вероятностями\n",
    "probas = model.predict_proba(features_test)\n",
    "class_indexes = np.argmax(probas, axis=1)  # индексы классов с max вероятностью\n",
    "class_probas = probas[np.arange(features_test.shape[0]), class_indexes]\n",
    "class_output = model.classes_[class_indexes]\n",
    "ds_test[f'{CLASS_FILED} prob'] = class_probas\n",
    "ds_test[f'{CLASS_FILED} pred'] = class_output\n",
    "ds_test[f'{CLASS_FILED} success'] = (ds_test[f'{CLASS_FILED} pred'] == ds_test[CLASS_FILED]).astype('int16')"
   ]
  },
  {
   "cell_type": "code",
   "execution_count": 19,
   "metadata": {},
   "outputs": [],
   "source": [
    "def create_conf_report(ds: pd.DataFrame):\n",
    "    col_name = CLASS_FILED\n",
    "    prob_col = f'{CLASS_FILED} prob'\n",
    "    success_col = f'{CLASS_FILED} success'\n",
    "\n",
    "    ds_rep = ds.sort_values(by=[prob_col], ascending=[False])\n",
    "    ds_rep['{} Кол-во'.format(col_name)] = range(1, len(ds_rep) + 1)\n",
    "    ds_rep['{} Соотв-сум'.format(col_name)] = ds_rep[success_col].cumsum()\n",
    "    ds_rep['{} Точность'.format(col_name)] = ds_rep['{} Соотв-сум'.format(col_name)] / ds_rep['{} Кол-во'.format(col_name)]\n",
    "    ds_rep['{} Доля'.format(col_name)] = ds_rep['{} Кол-во'.format(col_name)] / len(ds_rep)\n",
    "\n",
    "    return ds_rep"
   ]
  },
  {
   "cell_type": "code",
   "execution_count": 20,
   "metadata": {},
   "outputs": [],
   "source": [
    "ds_test = create_conf_report(ds_test)"
   ]
  },
  {
   "cell_type": "code",
   "execution_count": 21,
   "metadata": {},
   "outputs": [],
   "source": [
    "ds_test.to_excel(r'd:\\Projects\\MegaJack\\rosatom\\data\\Класс карточек\\Класс карточек - Результат обучения - {}.xlsx'.format(CLASS_FILED))"
   ]
  },
  {
   "cell_type": "markdown",
   "metadata": {},
   "source": [
    "### Обучаем на всех данных"
   ]
  },
  {
   "cell_type": "code",
   "execution_count": 22,
   "metadata": {},
   "outputs": [
    {
     "data": {
      "text/plain": [
       "LogisticRegression(C=5, class_weight=None, dual=False, fit_intercept=True,\n",
       "                   intercept_scaling=1, l1_ratio=None, max_iter=100,\n",
       "                   multi_class='ovr', n_jobs=None, penalty='l2', random_state=1,\n",
       "                   solver='liblinear', tol=0.0001, verbose=0, warm_start=False)"
      ]
     },
     "execution_count": 22,
     "metadata": {},
     "output_type": "execute_result"
    }
   ],
   "source": [
    "model = LogisticRegression(C=5, random_state=1, solver='liblinear', multi_class='ovr')\n",
    "features_all = vect.fit_transform(ds['unigramms'])\n",
    "model.fit(features_all, ds[CLASS_FILED])"
   ]
  },
  {
   "cell_type": "code",
   "execution_count": 23,
   "metadata": {},
   "outputs": [],
   "source": [
    "pickle.dump(vect, open(r'd:\\Projects\\MegaJack\\rosatom\\data\\Класс карточек\\vect.pickle', 'wb'))\n",
    "pickle.dump(model, open(r'd:\\Projects\\MegaJack\\rosatom\\data\\Класс карточек\\model.pickle', 'wb'))"
   ]
  },
  {
   "cell_type": "markdown",
   "metadata": {},
   "source": [
    "### Тестируем"
   ]
  },
  {
   "cell_type": "code",
   "execution_count": 24,
   "metadata": {},
   "outputs": [],
   "source": [
    "text = 'предоставить отчет'\n",
    "unigramms = get_unigramms(text)\n",
    "unigramms_vect = vect.transform([unigramms])\n",
    "result = model.predict(unigramms_vect)"
   ]
  },
  {
   "cell_type": "code",
   "execution_count": 25,
   "metadata": {},
   "outputs": [
    {
     "data": {
      "text/plain": [
       "1"
      ]
     },
     "execution_count": 25,
     "metadata": {},
     "output_type": "execute_result"
    }
   ],
   "source": [
    "result[0]"
   ]
  },
  {
   "cell_type": "code",
   "execution_count": 26,
   "metadata": {},
   "outputs": [
    {
     "data": {
      "text/plain": [
       "array([[0.56653533, 0.18734043, 0.24612424]])"
      ]
     },
     "execution_count": 26,
     "metadata": {},
     "output_type": "execute_result"
    }
   ],
   "source": [
    "result = model.predict_proba(unigramms_vect)\n",
    "result"
   ]
  },
  {
   "cell_type": "code",
   "execution_count": null,
   "metadata": {},
   "outputs": [],
   "source": []
  }
 ],
 "metadata": {
  "kernelspec": {
   "display_name": "Python 3",
   "language": "python",
   "name": "python3"
  },
  "language_info": {
   "codemirror_mode": {
    "name": "ipython",
    "version": 3
   },
   "file_extension": ".py",
   "mimetype": "text/x-python",
   "name": "python",
   "nbconvert_exporter": "python",
   "pygments_lexer": "ipython3",
   "version": "3.6.8"
  }
 },
 "nbformat": 4,
 "nbformat_minor": 2
}
